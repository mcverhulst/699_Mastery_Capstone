{
 "cells": [
  {
   "cell_type": "code",
   "execution_count": 1,
   "metadata": {},
   "outputs": [],
   "source": [
    "import pandas as pd\n",
    "import glob\n",
    "import os"
   ]
  },
  {
   "cell_type": "code",
   "execution_count": 2,
   "metadata": {},
   "outputs": [
    {
     "data": {
      "text/plain": [
       "['Data/processed\\\\00.csv',\n",
       " 'Data/processed\\\\01.csv',\n",
       " 'Data/processed\\\\02.csv',\n",
       " 'Data/processed\\\\03.csv',\n",
       " 'Data/processed\\\\04.csv',\n",
       " 'Data/processed\\\\05.csv',\n",
       " 'Data/processed\\\\06.csv',\n",
       " 'Data/processed\\\\07.csv',\n",
       " 'Data/processed\\\\08.csv',\n",
       " 'Data/processed\\\\09.csv',\n",
       " 'Data/processed\\\\10.csv',\n",
       " 'Data/processed\\\\11.csv',\n",
       " 'Data/processed\\\\12.csv',\n",
       " 'Data/processed\\\\13.csv',\n",
       " 'Data/processed\\\\14.csv',\n",
       " 'Data/processed\\\\15.csv',\n",
       " 'Data/processed\\\\16.csv',\n",
       " 'Data/processed\\\\17.csv',\n",
       " 'Data/processed\\\\18.csv',\n",
       " 'Data/processed\\\\19.csv',\n",
       " 'Data/processed\\\\20.csv',\n",
       " 'Data/processed\\\\95.csv',\n",
       " 'Data/processed\\\\96.csv',\n",
       " 'Data/processed\\\\97.csv',\n",
       " 'Data/processed\\\\98.csv',\n",
       " 'Data/processed\\\\99.csv']"
      ]
     },
     "execution_count": 2,
     "metadata": {},
     "output_type": "execute_result"
    }
   ],
   "source": [
    "joined_files = os.path.join(\"Data/processed\", \"*.csv\")\n",
    "joined_list = glob.glob(joined_files)\n",
    "joined_list"
   ]
  },
  {
   "cell_type": "code",
   "execution_count": 3,
   "metadata": {},
   "outputs": [],
   "source": [
    "main = pd.read_csv(joined_list[0], index_col=0)\n",
    "for i in joined_list[1:]:\n",
    "    new = pd.read_csv(i, index_col=0)\n",
    "    main = main.merge(new, left_index=True, right_index=True)\n",
    "main = main [['95', '96', '97', '98', '99',\n",
    "       '00', '01', '02', '03', '04', '05' ,'06', '07', '08', '09',\n",
    "       '10', '11', '12', '13', '14', '15', '16', '17', '18', '19',\n",
    "       '20']]\n",
    "main.to_csv(\"Data/final_edu.csv\")"
   ]
  },
  {
   "cell_type": "code",
   "execution_count": null,
   "metadata": {},
   "outputs": [],
   "source": []
  }
 ],
 "metadata": {
  "kernelspec": {
   "display_name": "base",
   "language": "python",
   "name": "python3"
  },
  "language_info": {
   "codemirror_mode": {
    "name": "ipython",
    "version": 3
   },
   "file_extension": ".py",
   "mimetype": "text/x-python",
   "name": "python",
   "nbconvert_exporter": "python",
   "pygments_lexer": "ipython3",
   "version": "3.9.7"
  },
  "orig_nbformat": 4
 },
 "nbformat": 4,
 "nbformat_minor": 2
}
