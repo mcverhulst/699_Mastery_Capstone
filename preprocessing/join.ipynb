{
 "cells": [
  {
   "cell_type": "code",
   "execution_count": 30,
   "metadata": {},
   "outputs": [],
   "source": [
    "import pandas as pd\n",
    "import glob\n",
    "import os"
   ]
  },
  {
   "cell_type": "code",
   "execution_count": 31,
   "metadata": {},
   "outputs": [
    {
     "data": {
      "text/plain": [
       "['Data/processed\\\\00.csv',\n",
       " 'Data/processed\\\\01.csv',\n",
       " 'Data/processed\\\\02.csv',\n",
       " 'Data/processed\\\\03.csv',\n",
       " 'Data/processed\\\\04.csv',\n",
       " 'Data/processed\\\\05.csv',\n",
       " 'Data/processed\\\\06.csv',\n",
       " 'Data/processed\\\\07.csv',\n",
       " 'Data/processed\\\\08.csv',\n",
       " 'Data/processed\\\\09.csv',\n",
       " 'Data/processed\\\\10.csv',\n",
       " 'Data/processed\\\\11.csv',\n",
       " 'Data/processed\\\\12.csv',\n",
       " 'Data/processed\\\\13.csv',\n",
       " 'Data/processed\\\\14.csv',\n",
       " 'Data/processed\\\\15.csv',\n",
       " 'Data/processed\\\\16.csv',\n",
       " 'Data/processed\\\\17.csv',\n",
       " 'Data/processed\\\\18.csv',\n",
       " 'Data/processed\\\\19.csv',\n",
       " 'Data/processed\\\\20.csv',\n",
       " 'Data/processed\\\\95.csv',\n",
       " 'Data/processed\\\\96.csv',\n",
       " 'Data/processed\\\\97.csv',\n",
       " 'Data/processed\\\\98.csv',\n",
       " 'Data/processed\\\\99.csv']"
      ]
     },
     "execution_count": 31,
     "metadata": {},
     "output_type": "execute_result"
    }
   ],
   "source": [
    "joined_files = os.path.join(\"Data/processed\", \"*.csv\")\n",
    "joined_list = glob.glob(joined_files)\n",
    "joined_list"
   ]
  },
  {
   "cell_type": "code",
   "execution_count": 32,
   "metadata": {},
   "outputs": [],
   "source": [
    "main = pd.read_csv(joined_list[0], index_col=0)\n",
    "for i in joined_list[1:]:\n",
    "    new = pd.read_csv(i, index_col=0)\n",
    "    main = main.merge(new, left_index=True, right_index=True)\n",
    "main = main [['95', '96', '97', '98', '99',\n",
    "       '00', '01', '02', '03', '04', '05' ,'06', '07', '08', '09',\n",
    "       '10', '11', '12', '13', '14', '15', '16', '17', '18', '19',\n",
    "       '20']]\n",
    "main.to_csv(\"Data/final_edu.csv\")"
   ]
  },
  {
   "cell_type": "code",
   "execution_count": 33,
   "metadata": {},
   "outputs": [],
   "source": [
    "main = main.reset_index()\n"
   ]
  },
  {
   "cell_type": "code",
   "execution_count": 34,
   "metadata": {},
   "outputs": [
    {
     "data": {
      "text/html": [
       "<div>\n",
       "<style scoped>\n",
       "    .dataframe tbody tr th:only-of-type {\n",
       "        vertical-align: middle;\n",
       "    }\n",
       "\n",
       "    .dataframe tbody tr th {\n",
       "        vertical-align: top;\n",
       "    }\n",
       "\n",
       "    .dataframe thead th {\n",
       "        text-align: right;\n",
       "    }\n",
       "</style>\n",
       "<table border=\"1\" class=\"dataframe\">\n",
       "  <thead>\n",
       "    <tr style=\"text-align: right;\">\n",
       "      <th></th>\n",
       "      <th>index</th>\n",
       "      <th>95</th>\n",
       "      <th>96</th>\n",
       "      <th>97</th>\n",
       "      <th>98</th>\n",
       "      <th>99</th>\n",
       "      <th>00</th>\n",
       "      <th>01</th>\n",
       "      <th>02</th>\n",
       "      <th>03</th>\n",
       "      <th>...</th>\n",
       "      <th>11</th>\n",
       "      <th>12</th>\n",
       "      <th>13</th>\n",
       "      <th>14</th>\n",
       "      <th>15</th>\n",
       "      <th>16</th>\n",
       "      <th>17</th>\n",
       "      <th>18</th>\n",
       "      <th>19</th>\n",
       "      <th>20</th>\n",
       "    </tr>\n",
       "  </thead>\n",
       "  <tbody>\n",
       "    <tr>\n",
       "      <th>2</th>\n",
       "      <td>total women</td>\n",
       "      <td>400.0</td>\n",
       "      <td>414.0</td>\n",
       "      <td>425.0</td>\n",
       "      <td>450.0</td>\n",
       "      <td>462.0</td>\n",
       "      <td>480.0</td>\n",
       "      <td>500.0</td>\n",
       "      <td>528.0</td>\n",
       "      <td>550.0</td>\n",
       "      <td>...</td>\n",
       "      <td>692.0</td>\n",
       "      <td>698.0</td>\n",
       "      <td>720.0</td>\n",
       "      <td>730.0</td>\n",
       "      <td>720.0</td>\n",
       "      <td>751.0</td>\n",
       "      <td>769.0</td>\n",
       "      <td>798.0</td>\n",
       "      <td>814.0</td>\n",
       "      <td>900.0</td>\n",
       "    </tr>\n",
       "    <tr>\n",
       "      <th>43</th>\n",
       "      <td>Hispanic or Latino + Female</td>\n",
       "      <td>307.0</td>\n",
       "      <td>320.0</td>\n",
       "      <td>323.0</td>\n",
       "      <td>346.0</td>\n",
       "      <td>360.0</td>\n",
       "      <td>378.0</td>\n",
       "      <td>400.0</td>\n",
       "      <td>408.0</td>\n",
       "      <td>404.0</td>\n",
       "      <td>...</td>\n",
       "      <td>520.0</td>\n",
       "      <td>523.0</td>\n",
       "      <td>547.0</td>\n",
       "      <td>546.0</td>\n",
       "      <td>560.0</td>\n",
       "      <td>577.0</td>\n",
       "      <td>600.0</td>\n",
       "      <td>608.0</td>\n",
       "      <td>640.0</td>\n",
       "      <td>700.0</td>\n",
       "    </tr>\n",
       "  </tbody>\n",
       "</table>\n",
       "<p>2 rows × 27 columns</p>\n",
       "</div>"
      ],
      "text/plain": [
       "                          index     95     96     97     98     99     00  \\\n",
       "2                   total women  400.0  414.0  425.0  450.0  462.0  480.0   \n",
       "43  Hispanic or Latino + Female  307.0  320.0  323.0  346.0  360.0  378.0   \n",
       "\n",
       "       01     02     03  ...     11     12     13     14     15     16     17  \\\n",
       "2   500.0  528.0  550.0  ...  692.0  698.0  720.0  730.0  720.0  751.0  769.0   \n",
       "43  400.0  408.0  404.0  ...  520.0  523.0  547.0  546.0  560.0  577.0  600.0   \n",
       "\n",
       "       18     19     20  \n",
       "2   798.0  814.0  900.0  \n",
       "43  608.0  640.0  700.0  \n",
       "\n",
       "[2 rows x 27 columns]"
      ]
     },
     "execution_count": 34,
     "metadata": {},
     "output_type": "execute_result"
    }
   ],
   "source": [
    "main[(main['index'] == \"total women\") | (main['index'] == \"Hispanic or Latino + Female\")]"
   ]
  }
 ],
 "metadata": {
  "kernelspec": {
   "display_name": "base",
   "language": "python",
   "name": "python3"
  },
  "language_info": {
   "codemirror_mode": {
    "name": "ipython",
    "version": 3
   },
   "file_extension": ".py",
   "mimetype": "text/x-python",
   "name": "python",
   "nbconvert_exporter": "python",
   "pygments_lexer": "ipython3",
   "version": "3.9.6"
  },
  "orig_nbformat": 4
 },
 "nbformat": 4,
 "nbformat_minor": 2
}
